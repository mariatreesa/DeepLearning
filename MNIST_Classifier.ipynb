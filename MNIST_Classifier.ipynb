{
  "nbformat": 4,
  "nbformat_minor": 0,
  "metadata": {
    "colab": {
      "name": "MNIST Classifier.ipynb",
      "provenance": [],
      "collapsed_sections": [],
      "authorship_tag": "ABX9TyMFWuhOVKbVB5Ro/wQeAGFt",
      "include_colab_link": true
    },
    "kernelspec": {
      "name": "python3",
      "display_name": "Python 3"
    }
  },
  "cells": [
    {
      "cell_type": "markdown",
      "metadata": {
        "id": "view-in-github",
        "colab_type": "text"
      },
      "source": [
        "<a href=\"https://colab.research.google.com/github/mariatreesa/DeepLearning/blob/master/MNIST_Classifier.ipynb\" target=\"_parent\"><img src=\"https://colab.research.google.com/assets/colab-badge.svg\" alt=\"Open In Colab\"/></a>"
      ]
    },
    {
      "cell_type": "markdown",
      "metadata": {
        "id": "Wp_tpLSyqonr",
        "colab_type": "text"
      },
      "source": [
        "Deep neural networks for recognizing handwritten digits"
      ]
    },
    {
      "cell_type": "code",
      "metadata": {
        "id": "VeU9OwzdV28C",
        "colab_type": "code",
        "colab": {}
      },
      "source": [
        "import tensorflow as tf\n",
        "from tensorflow import keras\n"
      ],
      "execution_count": 2,
      "outputs": []
    },
    {
      "cell_type": "code",
      "metadata": {
        "id": "ziUSH4ouckx2",
        "colab_type": "code",
        "colab": {}
      },
      "source": [
        "class myCallback(tf.keras.callbacks.Callback):\n",
        "  def on_epoch_end(self, epochs, logs = {}):\n",
        "    if logs.get('accuracy') > 0.998:\n",
        "      print(f'Reached 99.8% accuracy hence cancelling training')\n",
        "      self.model.stop_training = True"
      ],
      "execution_count": 20,
      "outputs": []
    },
    {
      "cell_type": "code",
      "metadata": {
        "id": "JjzWyTZ1aS1E",
        "colab_type": "code",
        "colab": {}
      },
      "source": [
        "def train_mnsit():\n",
        "  mnist = keras.datasets.mnist\n",
        "  (train_digits, train_labels), (test_digits, test_labels) = mnist.load_data()\n",
        "  train_digits = train_digits / 255\n",
        "  test_digits = test_digits / 255\n",
        "  model = keras.models.Sequential([keras.layers.Flatten(input_shape = (28,28)),\n",
        "                                 keras.layers.Dense(128, activation='relu'),\n",
        "                                 keras.layers.Dense(units=10, activation='softmax')])\n",
        "  model.compile(optimizer='adam',\n",
        "                  loss='sparse_categorical_crossentropy',\n",
        "                  metrics=['accuracy'])\n",
        "  callbacks = myCallback()\n",
        "  history = model.fit(train_digits, train_labels, epochs = 20, callbacks = [callbacks])\n",
        "  return history.epoch, history.history['accuracy'][-1]"
      ],
      "execution_count": null,
      "outputs": []
    },
    {
      "cell_type": "code",
      "metadata": {
        "id": "icpQMghra3IL",
        "colab_type": "code",
        "colab": {
          "base_uri": "https://localhost:8080/",
          "height": 286
        },
        "outputId": "4d593b8c-a9d8-4ee9-95cd-345f3a823919"
      },
      "source": [
        "\n",
        "train_mnsit()\n"
      ],
      "execution_count": null,
      "outputs": [
        {
          "output_type": "stream",
          "text": [
            "Epoch 1/20\n",
            "1875/1875 [==============================] - 3s 2ms/step - loss: 0.2560 - accuracy: 0.9269\n",
            "Epoch 2/20\n",
            "1875/1875 [==============================] - 3s 2ms/step - loss: 0.1134 - accuracy: 0.9671\n",
            "Epoch 3/20\n",
            "1875/1875 [==============================] - 3s 2ms/step - loss: 0.0771 - accuracy: 0.9763\n",
            "Epoch 4/20\n",
            "1875/1875 [==============================] - 3s 2ms/step - loss: 0.0573 - accuracy: 0.9830\n",
            "Epoch 5/20\n",
            "1875/1875 [==============================] - 3s 2ms/step - loss: 0.0441 - accuracy: 0.9858\n",
            "Epoch 6/20\n",
            "1875/1875 [==============================] - 3s 2ms/step - loss: 0.0358 - accuracy: 0.9887\n",
            "Epoch 7/20\n",
            "1849/1875 [============================>.] - ETA: 0s - loss: 0.0277 - accuracy: 0.9914Reached 99% accuracy hence cancelling training\n",
            "1875/1875 [==============================] - 3s 2ms/step - loss: 0.0277 - accuracy: 0.9915\n"
          ],
          "name": "stdout"
        },
        {
          "output_type": "execute_result",
          "data": {
            "text/plain": [
              "([0, 1, 2, 3, 4, 5, 6], 0.9914500117301941)"
            ]
          },
          "metadata": {
            "tags": []
          },
          "execution_count": 15
        }
      ]
    },
    {
      "cell_type": "markdown",
      "metadata": {
        "id": "1FvkUbT4qxu8",
        "colab_type": "text"
      },
      "source": [
        "**CNN for Handwritten digits recognition**\n"
      ]
    },
    {
      "cell_type": "code",
      "metadata": {
        "id": "JpL4RL36rYmG",
        "colab_type": "code",
        "colab": {
          "base_uri": "https://localhost:8080/",
          "height": 34
        },
        "outputId": "c4b1f1e1-d4a0-4001-a9d4-f2e73f6888ab"
      },
      "source": [
        "  mnist = keras.datasets.mnist\n",
        "(train_digits, train_labels), (test_digits, test_labels) = mnist.load_data()\n",
        "test_digits.shape"
      ],
      "execution_count": 4,
      "outputs": [
        {
          "output_type": "execute_result",
          "data": {
            "text/plain": [
              "(10000, 28, 28)"
            ]
          },
          "metadata": {
            "tags": []
          },
          "execution_count": 4
        }
      ]
    },
    {
      "cell_type": "code",
      "metadata": {
        "id": "XdLzMvHqq8AG",
        "colab_type": "code",
        "colab": {}
      },
      "source": [
        "def training_mnist_conv():\n",
        "\n",
        "    mnist = tf.keras.datasets.mnist\n",
        "    (training_images, training_labels), (test_images, test_labels) = mnist.load_data()\n",
        "    training_images = training_images.reshape(60000, 28, 28, 1)\n",
        "    training_images = training_images / 255\n",
        "    test_images = test_images.reshape(10000, 28, 28, 1)\n",
        "    test_images = test_images / 255\n",
        "\n",
        "    model = tf.keras.models.Sequential([tf.keras.layers.Conv2D(64, (3,3), activation= 'relu', input_shape = (28,28,1)),\n",
        "                                 tf.keras.layers.MaxPooling2D(2, 2),\n",
        "                                 tf.keras.layers.Conv2D(32, (3,3), activation= 'relu'),\n",
        "                                 tf.keras.layers.MaxPooling2D(2, 2),\n",
        "                                 tf.keras.layers.Flatten(),\n",
        "                                 tf.keras.layers.Dense(128, activation='relu'),\n",
        "                                 tf.keras.layers.Dense(10, activation='softmax')\n",
        "    ])\n",
        "\n",
        "    model.compile(optimizer='adam', loss='sparse_categorical_crossentropy', metrics=['accuracy'])\n",
        "    print(model.summary)\n",
        "    # model fitting\n",
        "    callbacks = myCallback()\n",
        "    history = model.fit(\n",
        "          training_images, train_labels, epochs = 20, callbacks = [callbacks]\n",
        "    )\n",
        "    # model fitting\n",
        "    return history.epoch, history.history['accuracy'][-1]"
      ],
      "execution_count": 22,
      "outputs": []
    },
    {
      "cell_type": "code",
      "metadata": {
        "id": "ZPtI7uxjsfut",
        "colab_type": "code",
        "colab": {
          "base_uri": "https://localhost:8080/",
          "height": 420
        },
        "outputId": "65fad72f-96f5-4b6a-ac3e-b9528d7101f3"
      },
      "source": [
        "epoch, accuracy = training_mnist_conv()"
      ],
      "execution_count": 23,
      "outputs": [
        {
          "output_type": "stream",
          "text": [
            "<bound method Network.summary of <tensorflow.python.keras.engine.sequential.Sequential object at 0x7fb6cd480860>>\n",
            "Epoch 1/20\n",
            "1875/1875 [==============================] - 68s 37ms/step - loss: 0.1338 - accuracy: 0.9590\n",
            "Epoch 2/20\n",
            "1875/1875 [==============================] - 66s 35ms/step - loss: 0.0435 - accuracy: 0.9863\n",
            "Epoch 3/20\n",
            "1875/1875 [==============================] - 65s 35ms/step - loss: 0.0299 - accuracy: 0.9905\n",
            "Epoch 4/20\n",
            "1875/1875 [==============================] - 65s 35ms/step - loss: 0.0226 - accuracy: 0.9927\n",
            "Epoch 5/20\n",
            "1875/1875 [==============================] - 65s 35ms/step - loss: 0.0168 - accuracy: 0.9945\n",
            "Epoch 6/20\n",
            "1875/1875 [==============================] - 65s 34ms/step - loss: 0.0127 - accuracy: 0.9959\n",
            "Epoch 7/20\n",
            "1875/1875 [==============================] - 65s 35ms/step - loss: 0.0116 - accuracy: 0.9960\n",
            "Epoch 8/20\n",
            "1875/1875 [==============================] - 65s 35ms/step - loss: 0.0080 - accuracy: 0.9975\n",
            "Epoch 9/20\n",
            "1875/1875 [==============================] - 65s 34ms/step - loss: 0.0081 - accuracy: 0.9975\n",
            "Epoch 10/20\n",
            "1875/1875 [==============================] - 69s 37ms/step - loss: 0.0070 - accuracy: 0.9976\n",
            "Epoch 11/20\n",
            "1874/1875 [============================>.] - ETA: 0s - loss: 0.0056 - accuracy: 0.9983Reached 99.8% accuracy hence cancelling training\n",
            "1875/1875 [==============================] - 65s 35ms/step - loss: 0.0056 - accuracy: 0.9983\n"
          ],
          "name": "stdout"
        }
      ]
    }
  ]
}